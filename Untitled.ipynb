{
 "cells": [
  {
   "cell_type": "code",
   "execution_count": 2,
   "id": "bb14ff76-64b1-4111-9c7d-ee09170d75a4",
   "metadata": {},
   "outputs": [
    {
     "name": "stdout",
     "output_type": "stream",
     "text": [
      "Hello World\n"
     ]
    }
   ],
   "source": [
    "println(\"Hello World\")"
   ]
  },
  {
   "cell_type": "code",
   "execution_count": 4,
   "id": "4735b923-22b2-4fc2-8cf4-4ef8e61723ce",
   "metadata": {},
   "outputs": [
    {
     "data": {
      "text/plain": [
       "32"
      ]
     },
     "execution_count": 4,
     "metadata": {},
     "output_type": "execute_result"
    }
   ],
   "source": [
    "my_answer = 32"
   ]
  },
  {
   "cell_type": "code",
   "execution_count": 5,
   "id": "e9a6349d-5777-4462-81f4-f86f8df941d8",
   "metadata": {},
   "outputs": [
    {
     "data": {
      "text/plain": [
       "\"Andrew\""
      ]
     },
     "execution_count": 5,
     "metadata": {},
     "output_type": "execute_result"
    }
   ],
   "source": [
    "my_answer = \"Andrew\""
   ]
  },
  {
   "cell_type": "code",
   "execution_count": 6,
   "id": "10aa78d7-9495-4494-b131-cb56a741cf83",
   "metadata": {},
   "outputs": [
    {
     "name": "stdout",
     "output_type": "stream",
     "text": [
      "Jane has 10 and 10 toes\n"
     ]
    }
   ],
   "source": [
    "name = \"Jane\"\n",
    "num_fingers = 10\n",
    "num_toes = 10\n",
    "println(\"$name has $num_fingers and $num_toes toes\")"
   ]
  },
  {
   "cell_type": "code",
   "execution_count": 7,
   "id": "1f67466b-44e6-4f1c-8514-33bb1f68793c",
   "metadata": {},
   "outputs": [
    {
     "data": {
      "text/plain": [
       "\"this is string one this is string two\""
      ]
     },
     "execution_count": 7,
     "metadata": {},
     "output_type": "execute_result"
    }
   ],
   "source": [
    "a = \"this is string one\"\n",
    "b = \" this is string two\"\n",
    "a*b"
   ]
  },
  {
   "cell_type": "code",
   "execution_count": 8,
   "id": "1c3dfcab-b08e-4ef3-a334-c7d2dce91754",
   "metadata": {},
   "outputs": [
    {
     "data": {
      "text/plain": [
       "11-element Vector{Int64}:\n",
       "  3\n",
       "  2\n",
       " 23\n",
       "  4\n",
       " 23\n",
       "  2\n",
       " 34\n",
       "  2\n",
       "  2\n",
       "  2\n",
       "  2"
      ]
     },
     "execution_count": 8,
     "metadata": {},
     "output_type": "execute_result"
    }
   ],
   "source": [
    "a = [3,2,23,4,23,2,34,2,2,2,2]"
   ]
  },
  {
   "cell_type": "code",
   "execution_count": 15,
   "id": "03102cc8-ec69-4d76-be79-d5c934ddc6f4",
   "metadata": {},
   "outputs": [
    {
     "data": {
      "text/plain": [
       "5-element Vector{Float64}:\n",
       " 0.0\n",
       " 0.0\n",
       " 0.0\n",
       " 0.0\n",
       " 0.0"
      ]
     },
     "execution_count": 15,
     "metadata": {},
     "output_type": "execute_result"
    }
   ],
   "source": [
    "b = zeros(5)"
   ]
  },
  {
   "cell_type": "code",
   "execution_count": 16,
   "id": "b09a9f93-3b7a-4c3b-b700-32c6de6bf320",
   "metadata": {},
   "outputs": [
    {
     "data": {
      "text/plain": [
       "45-element Vector{Float64}:\n",
       " 0.9742088173943779\n",
       " 0.3102601355604795\n",
       " 0.2933431718166766\n",
       " 0.117491689603201\n",
       " 0.293073765131596\n",
       " 0.27325655871632915\n",
       " 0.35361460535815503\n",
       " 0.9433358972635877\n",
       " 0.6581216524975819\n",
       " 0.3904345710132875\n",
       " 0.6344004995438868\n",
       " 0.9267133508760628\n",
       " 0.6320530676693872\n",
       " ⋮\n",
       " 0.6574043168996264\n",
       " 0.9872689732169244\n",
       " 0.22191995121663055\n",
       " 0.7411067821138577\n",
       " 0.6832562433254719\n",
       " 0.8264910649737702\n",
       " 0.7217047990827141\n",
       " 0.11568308840876029\n",
       " 0.7108596633137163\n",
       " 0.8883991342548501\n",
       " 0.8050951190546649\n",
       " 0.8276433420957887"
      ]
     },
     "execution_count": 16,
     "metadata": {},
     "output_type": "execute_result"
    }
   ],
   "source": [
    "q = rand(45)"
   ]
  },
  {
   "cell_type": "code",
   "execution_count": 20,
   "id": "4d5a0057-7258-4b58-a383-e293b0da98b8",
   "metadata": {},
   "outputs": [
    {
     "ename": "LoadError",
     "evalue": "UndefVarError: Statistics not defined",
     "output_type": "error",
     "traceback": [
      "UndefVarError: Statistics not defined",
      "",
      "Stacktrace:",
      " [1] top-level scope",
      "   @ In[20]:1",
      " [2] eval",
      "   @ .\\boot.jl:360 [inlined]",
      " [3] include_string(mapexpr::typeof(REPL.softscope), mod::Module, code::String, filename::String)",
      "   @ Base .\\loading.jl:1116"
     ]
    }
   ],
   "source": [
    "Statistics.mean(q)"
   ]
  },
  {
   "cell_type": "code",
   "execution_count": 23,
   "id": "41fad88c-2f61-464f-8a9c-d23578fd3236",
   "metadata": {},
   "outputs": [],
   "source": [
    "import Statistics as st"
   ]
  },
  {
   "cell_type": "code",
   "execution_count": 24,
   "id": "3abf9aff-32de-4711-a1f9-d194553b2fed",
   "metadata": {},
   "outputs": [
    {
     "data": {
      "text/plain": [
       "0.5625227910310003"
      ]
     },
     "execution_count": 24,
     "metadata": {},
     "output_type": "execute_result"
    }
   ],
   "source": [
    "st.mean(q)"
   ]
  },
  {
   "cell_type": "code",
   "execution_count": 31,
   "id": "1c0339ce-420c-42bb-a31c-f8e427494b41",
   "metadata": {},
   "outputs": [],
   "source": [
    "q = rand(1000000000);"
   ]
  },
  {
   "cell_type": "code",
   "execution_count": 32,
   "id": "1591c38d-84a1-418c-b18f-8ec265b0712c",
   "metadata": {},
   "outputs": [
    {
     "data": {
      "text/plain": [
       "0.4999923324541831"
      ]
     },
     "execution_count": 32,
     "metadata": {},
     "output_type": "execute_result"
    }
   ],
   "source": [
    "st.mean(q)"
   ]
  },
  {
   "cell_type": "code",
   "execution_count": null,
   "id": "a0288fce-d42c-4768-9da9-9db30654ef07",
   "metadata": {},
   "outputs": [],
   "source": []
  }
 ],
 "metadata": {
  "kernelspec": {
   "display_name": "Julia 1.6.2",
   "language": "julia",
   "name": "julia-1.6"
  },
  "language_info": {
   "file_extension": ".jl",
   "mimetype": "application/julia",
   "name": "julia",
   "version": "1.6.2"
  }
 },
 "nbformat": 4,
 "nbformat_minor": 5
}
